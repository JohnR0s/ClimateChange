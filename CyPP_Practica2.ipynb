{
  "nbformat": 4,
  "nbformat_minor": 0,
  "metadata": {
    "colab": {
      "provenance": [],
      "collapsed_sections": [
        "W2rSsqDf_zB8",
        "x_jWbKDejBs7",
        "ExjGUBtfyQWe",
        "-AIbX2h7__YT",
        "sIIJ3WYxiQFU",
        "OGU0O9eIBZld",
        "xsyCmoCOAd4j",
        "uNbb4EebLIAP",
        "6RYAe9bgDl9T",
        "6_VZ7AcCOOOK",
        "zAWn5YYxFwke",
        "GTin8M8uOdsP",
        "JBBPkCXpbwyC",
        "cBklS0BrXt-S"
      ]
    },
    "kernelspec": {
      "name": "python3",
      "display_name": "Python 3"
    },
    "language_info": {
      "name": "python"
    }
  },
  "cells": [
    {
      "cell_type": "markdown",
      "source": [
        "# Práctica 2: Clean Data"
      ],
      "metadata": {
        "id": "W2rSsqDf_zB8"
      }
    },
    {
      "cell_type": "markdown",
      "metadata": {
        "id": "x_jWbKDejBs7"
      },
      "source": [
        "## Settings"
      ]
    },
    {
      "cell_type": "markdown",
      "source": [
        "Instalamos la librería dataprep"
      ],
      "metadata": {
        "id": "6dciEDdNnfqx"
      }
    },
    {
      "cell_type": "code",
      "source": [
        "!pip install -q 'dataprep'"
      ],
      "metadata": {
        "id": "YFDsqqekniT7",
        "colab": {
          "base_uri": "https://localhost:8080/"
        },
        "outputId": "1d6d854d-6545-4411-ad65-3032380c3a6b"
      },
      "execution_count": null,
      "outputs": [
        {
          "output_type": "stream",
          "name": "stdout",
          "text": [
            "\u001b[?25l     \u001b[90m━━━━━━━━━━━━━━━━━━━━━━━━━━━━━━━━━━━━━━━━\u001b[0m \u001b[32m0.0/9.9 MB\u001b[0m \u001b[31m?\u001b[0m eta \u001b[36m-:--:--\u001b[0m\r\u001b[2K     \u001b[91m━━━━━\u001b[0m\u001b[91m╸\u001b[0m\u001b[90m━━━━━━━━━━━━━━━━━━━━━━━━━━━━━━━━━━\u001b[0m \u001b[32m1.4/9.9 MB\u001b[0m \u001b[31m42.8 MB/s\u001b[0m eta \u001b[36m0:00:01\u001b[0m\r\u001b[2K     \u001b[91m━━━━━━━━━━━━━━━━━━━━━━━━━━\u001b[0m\u001b[90m╺\u001b[0m\u001b[90m━━━━━━━━━━━━━\u001b[0m \u001b[32m6.5/9.9 MB\u001b[0m \u001b[31m93.7 MB/s\u001b[0m eta \u001b[36m0:00:01\u001b[0m\r\u001b[2K     \u001b[91m━━━━━━━━━━━━━━━━━━━━━━━━━━━━━━━━━━━━━━━\u001b[0m\u001b[91m╸\u001b[0m \u001b[32m9.9/9.9 MB\u001b[0m \u001b[31m94.6 MB/s\u001b[0m eta \u001b[36m0:00:01\u001b[0m\r\u001b[2K     \u001b[91m━━━━━━━━━━━━━━━━━━━━━━━━━━━━━━━━━━━━━━━\u001b[0m\u001b[91m╸\u001b[0m \u001b[32m9.9/9.9 MB\u001b[0m \u001b[31m94.6 MB/s\u001b[0m eta \u001b[36m0:00:01\u001b[0m\r\u001b[2K     \u001b[90m━━━━━━━━━━━━━━━━━━━━━━━━━━━━━━━━━━━━━━━━\u001b[0m \u001b[32m9.9/9.9 MB\u001b[0m \u001b[31m55.2 MB/s\u001b[0m eta \u001b[36m0:00:00\u001b[0m\n",
            "\u001b[?25h  Preparing metadata (setup.py) ... \u001b[?25l\u001b[?25hdone\n",
            "\u001b[2K     \u001b[90m━━━━━━━━━━━━━━━━━━━━━━━━━━━━━━━━━━━━━━\u001b[0m \u001b[32m133.6/133.6 kB\u001b[0m \u001b[31m17.0 MB/s\u001b[0m eta \u001b[36m0:00:00\u001b[0m\n",
            "\u001b[2K     \u001b[90m━━━━━━━━━━━━━━━━━━━━━━━━━━━━━━━━━━━━━━━━\u001b[0m \u001b[32m1.0/1.0 MB\u001b[0m \u001b[31m53.6 MB/s\u001b[0m eta \u001b[36m0:00:00\u001b[0m\n",
            "\u001b[2K     \u001b[90m━━━━━━━━━━━━━━━━━━━━━━━━━━━━━━━━━━━━━━━━\u001b[0m \u001b[32m3.0/3.0 MB\u001b[0m \u001b[31m82.7 MB/s\u001b[0m eta \u001b[36m0:00:00\u001b[0m\n",
            "\u001b[2K     \u001b[90m━━━━━━━━━━━━━━━━━━━━━━━━━━━━━━━━━━━━━━\u001b[0m \u001b[32m764.0/764.0 kB\u001b[0m \u001b[31m24.7 MB/s\u001b[0m eta \u001b[36m0:00:00\u001b[0m\n",
            "\u001b[2K     \u001b[90m━━━━━━━━━━━━━━━━━━━━━━━━━━━━━━━━━━━━━━━━\u001b[0m \u001b[32m1.0/1.0 MB\u001b[0m \u001b[31m43.7 MB/s\u001b[0m eta \u001b[36m0:00:00\u001b[0m\n",
            "\u001b[2K     \u001b[90m━━━━━━━━━━━━━━━━━━━━━━━━━━━━━━━━━━━━━━━━\u001b[0m \u001b[32m1.0/1.0 MB\u001b[0m \u001b[31m61.9 MB/s\u001b[0m eta \u001b[36m0:00:00\u001b[0m\n",
            "\u001b[2K     \u001b[90m━━━━━━━━━━━━━━━━━━━━━━━━━━━━━━━━━━━━━━━━\u001b[0m \u001b[32m6.4/6.4 MB\u001b[0m \u001b[31m56.2 MB/s\u001b[0m eta \u001b[36m0:00:00\u001b[0m\n",
            "\u001b[?25h  Preparing metadata (setup.py) ... \u001b[?25l\u001b[?25hdone\n",
            "\u001b[2K     \u001b[90m━━━━━━━━━━━━━━━━━━━━━━━━━━━━━━━━━━━━━━\u001b[0m \u001b[32m114.5/114.5 kB\u001b[0m \u001b[31m13.3 MB/s\u001b[0m eta \u001b[36m0:00:00\u001b[0m\n",
            "\u001b[2K     \u001b[90m━━━━━━━━━━━━━━━━━━━━━━━━━━━━━━━━━━━━━━\u001b[0m \u001b[32m149.6/149.6 kB\u001b[0m \u001b[31m19.3 MB/s\u001b[0m eta \u001b[36m0:00:00\u001b[0m\n",
            "\u001b[2K     \u001b[90m━━━━━━━━━━━━━━━━━━━━━━━━━━━━━━━━━━━━━━\u001b[0m \u001b[32m268.8/268.8 kB\u001b[0m \u001b[31m25.3 MB/s\u001b[0m eta \u001b[36m0:00:00\u001b[0m\n",
            "\u001b[2K     \u001b[90m━━━━━━━━━━━━━━━━━━━━━━━━━━━━━━━━━━━━━━━━\u001b[0m \u001b[32m49.6/49.6 kB\u001b[0m \u001b[31m5.7 MB/s\u001b[0m eta \u001b[36m0:00:00\u001b[0m\n",
            "\u001b[2K     \u001b[90m━━━━━━━━━━━━━━━━━━━━━━━━━━━━━━━━━━━━━━━━\u001b[0m \u001b[32m1.6/1.6 MB\u001b[0m \u001b[31m77.6 MB/s\u001b[0m eta \u001b[36m0:00:00\u001b[0m\n",
            "\u001b[?25h  Building wheel for sqlalchemy (setup.py) ... \u001b[?25l\u001b[?25hdone\n",
            "  Building wheel for metaphone (setup.py) ... \u001b[?25l\u001b[?25hdone\n"
          ]
        }
      ]
    },
    {
      "cell_type": "markdown",
      "source": [
        "##Librerias"
      ],
      "metadata": {
        "id": "ExjGUBtfyQWe"
      }
    },
    {
      "cell_type": "markdown",
      "source": [
        "Importamos las librerías necesarias para el proyecto"
      ],
      "metadata": {
        "id": "mVgolSunFRvh"
      }
    },
    {
      "cell_type": "code",
      "source": [
        "import pandas as pd # Tabular Data \n",
        "\n",
        "from datetime import datetime\n",
        "from dataprep.eda import create_report # EDA report"
      ],
      "metadata": {
        "id": "b6zgR6O1FPIa"
      },
      "execution_count": null,
      "outputs": []
    },
    {
      "cell_type": "markdown",
      "source": [
        "##Datos"
      ],
      "metadata": {
        "id": "-AIbX2h7__YT"
      }
    },
    {
      "cell_type": "markdown",
      "source": [
        "#### Carga"
      ],
      "metadata": {
        "id": "sIIJ3WYxiQFU"
      }
    },
    {
      "cell_type": "markdown",
      "source": [
        "Creamos la conexión con Google Drive y cargamos el dataFrame obtenido previamente  "
      ],
      "metadata": {
        "id": "Hz5PxzqiAoS6"
      }
    },
    {
      "cell_type": "code",
      "source": [
        "from google.colab import drive\n",
        "drive.mount('drive')"
      ],
      "metadata": {
        "colab": {
          "base_uri": "https://localhost:8080/"
        },
        "id": "6fCeCoWnJtRN",
        "outputId": "a91c99f1-8ffb-4088-ce27-1fb9396ef96c"
      },
      "execution_count": null,
      "outputs": [
        {
          "output_type": "stream",
          "name": "stdout",
          "text": [
            "Mounted at drive\n"
          ]
        }
      ]
    },
    {
      "cell_type": "markdown",
      "source": [
        "Realizamos la carga del DataFrame"
      ],
      "metadata": {
        "id": "48A1_m3nikwx"
      }
    },
    {
      "cell_type": "code",
      "source": [
        "df = pd.read_csv('/content/drive/MyDrive/Data/merged_sample.csv')"
      ],
      "metadata": {
        "id": "VZpIwLD3iSE5",
        "colab": {
          "base_uri": "https://localhost:8080/"
        },
        "outputId": "988d452f-5c93-436a-b9fe-0e05e3bdf7b2"
      },
      "execution_count": null,
      "outputs": [
        {
          "output_type": "stream",
          "name": "stderr",
          "text": [
            "<ipython-input-23-714b8ab27e38>:1: DtypeWarning: Columns (10,11,12) have mixed types. Specify dtype option on import or set low_memory=False.\n",
            "  df = pd.read_csv('/content/drive/MyDrive/Data/ms.csv')\n"
          ]
        }
      ]
    },
    {
      "cell_type": "code",
      "source": [
        "df.info()"
      ],
      "metadata": {
        "colab": {
          "base_uri": "https://localhost:8080/"
        },
        "id": "mg4E53caCiA4",
        "outputId": "2df77dba-8de0-40c2-c27b-c7e0a168748c"
      },
      "execution_count": null,
      "outputs": [
        {
          "output_type": "stream",
          "name": "stdout",
          "text": [
            "<class 'pandas.core.frame.DataFrame'>\n",
            "RangeIndex: 276284 entries, 0 to 276283\n",
            "Data columns (total 27 columns):\n",
            " #   Column            Non-Null Count   Dtype  \n",
            "---  ------            --------------   -----  \n",
            " 0   type              276284 non-null  object \n",
            " 1   id                276284 non-null  object \n",
            " 2   subreddit.id      276284 non-null  object \n",
            " 3   subreddit.name    276284 non-null  object \n",
            " 4   subreddit.nsfw    276284 non-null  bool   \n",
            " 5   created_utc       276284 non-null  object \n",
            " 6   permalink         276284 non-null  object \n",
            " 7   selftext          247843 non-null  object \n",
            " 8   sentiment         239717 non-null  float64\n",
            " 9   score             276284 non-null  int64  \n",
            " 10  domain            32504 non-null   object \n",
            " 11  url               28441 non-null   object \n",
            " 12  title             32504 non-null   object \n",
            " 13  Year              276284 non-null  int64  \n",
            " 14  Domain Code       276284 non-null  object \n",
            " 15  Domain            276284 non-null  object \n",
            " 16  Area Code (FAO)   276284 non-null  int64  \n",
            " 17  Area              276284 non-null  object \n",
            " 18  Element Code      276284 non-null  int64  \n",
            " 19  Element           276284 non-null  object \n",
            " 20  Months Code       276284 non-null  int64  \n",
            " 21  Months            276284 non-null  object \n",
            " 22  Year Code         276284 non-null  int64  \n",
            " 23  Unit              276284 non-null  object \n",
            " 24  Value             262903 non-null  float64\n",
            " 25  Flag              276284 non-null  object \n",
            " 26  Flag Description  276284 non-null  object \n",
            "dtypes: bool(1), float64(2), int64(6), object(18)\n",
            "memory usage: 55.1+ MB\n"
          ]
        }
      ]
    },
    {
      "cell_type": "markdown",
      "source": [
        "##Limpieza"
      ],
      "metadata": {
        "id": "OGU0O9eIBZld"
      }
    },
    {
      "cell_type": "markdown",
      "source": [
        "Tomando como referencia el análisis realizado en la entrega anterior, comenzamos la limpieza"
      ],
      "metadata": {
        "id": "H3ShSil0CpPe"
      }
    },
    {
      "cell_type": "markdown",
      "source": [
        "### Subreddit.nsfw"
      ],
      "metadata": {
        "id": "xsyCmoCOAd4j"
      }
    },
    {
      "cell_type": "markdown",
      "source": [
        "Observamos los valores de la columna nsfw (not safe for work) y eliminamos los registros de tengas un valor True en este campo"
      ],
      "metadata": {
        "id": "ErnQb10OBdap"
      }
    },
    {
      "cell_type": "code",
      "source": [
        "df['subreddit.nsfw'].value_counts()"
      ],
      "metadata": {
        "colab": {
          "base_uri": "https://localhost:8080/"
        },
        "id": "T05ULBQZ5VbT",
        "outputId": "87d02bdd-c084-4851-8732-8c396494e8fe"
      },
      "execution_count": null,
      "outputs": [
        {
          "output_type": "execute_result",
          "data": {
            "text/plain": [
              "False    276284\n",
              "Name: subreddit.nsfw, dtype: int64"
            ]
          },
          "metadata": {},
          "execution_count": 32
        }
      ]
    },
    {
      "cell_type": "code",
      "source": [
        "df = df.drop(df[df['subreddit.nsfw'] == 1].index)"
      ],
      "metadata": {
        "id": "uqqn-dWy8ILp"
      },
      "execution_count": null,
      "outputs": []
    },
    {
      "cell_type": "markdown",
      "source": [
        "###Flag"
      ],
      "metadata": {
        "id": "uNbb4EebLIAP"
      }
    },
    {
      "cell_type": "markdown",
      "source": [
        "Eliminamos los registros NV (Not Available)"
      ],
      "metadata": {
        "id": "LhHqZ-HOLKQe"
      }
    },
    {
      "cell_type": "code",
      "source": [
        "df.Flag.value_counts()"
      ],
      "metadata": {
        "colab": {
          "base_uri": "https://localhost:8080/"
        },
        "id": "fo29nybwLJVb",
        "outputId": "841a3ff3-af56-4698-a397-0213b1dbcddc"
      },
      "execution_count": null,
      "outputs": [
        {
          "output_type": "execute_result",
          "data": {
            "text/plain": [
              "Fc    262903\n",
              "NV     13381\n",
              "Name: Flag, dtype: int64"
            ]
          },
          "metadata": {},
          "execution_count": 34
        }
      ]
    },
    {
      "cell_type": "code",
      "source": [
        "df = df.drop(df[df['Flag'] == 'NV'].index)"
      ],
      "metadata": {
        "id": "Ltb9PkzMLliN"
      },
      "execution_count": null,
      "outputs": []
    },
    {
      "cell_type": "markdown",
      "source": [
        "### Columnas"
      ],
      "metadata": {
        "id": "6RYAe9bgDl9T"
      }
    },
    {
      "cell_type": "markdown",
      "source": [
        "Eliminamos aquellas columnas que generarían ruido en nuestros datos"
      ],
      "metadata": {
        "id": "xk_0T_tlDtr7"
      }
    },
    {
      "cell_type": "code",
      "source": [
        "df.columns"
      ],
      "metadata": {
        "colab": {
          "base_uri": "https://localhost:8080/"
        },
        "id": "chDwQy7tDqg2",
        "outputId": "060e0153-12ad-42b8-e7ce-6e4fbe42e041"
      },
      "execution_count": null,
      "outputs": [
        {
          "output_type": "execute_result",
          "data": {
            "text/plain": [
              "Index(['type', 'id', 'subreddit.id', 'subreddit.name', 'subreddit.nsfw',\n",
              "       'created_utc', 'permalink', 'selftext', 'sentiment', 'score', 'domain',\n",
              "       'url', 'title', 'Year', 'Domain Code', 'Domain', 'Area Code (FAO)',\n",
              "       'Area', 'Element Code', 'Element', 'Months Code', 'Months', 'Year Code',\n",
              "       'Unit', 'Value', 'Flag', 'Flag Description'],\n",
              "      dtype='object')"
            ]
          },
          "metadata": {},
          "execution_count": 27
        }
      ]
    },
    {
      "cell_type": "code",
      "source": [
        "ls_drop = ['id', 'subreddit.id', 'subreddit.name', 'subreddit.nsfw', 'created_utc',\n",
        "           'permalink', 'domain', 'url', 'Domain Code', 'Domain', 'Area Code (FAO)',\n",
        "           'Element Code', 'Element', 'Months Code', 'Year Code', 'Unit', 'Flag', 'Flag Description']"
      ],
      "metadata": {
        "id": "0fRbW3o5DlpQ"
      },
      "execution_count": null,
      "outputs": []
    },
    {
      "cell_type": "code",
      "source": [
        "df = df.drop(columns = ls_drop)"
      ],
      "metadata": {
        "id": "j3TOs7bJM8vn"
      },
      "execution_count": null,
      "outputs": []
    },
    {
      "cell_type": "code",
      "source": [
        "df.columns"
      ],
      "metadata": {
        "colab": {
          "base_uri": "https://localhost:8080/"
        },
        "id": "RKh-O15xNy4O",
        "outputId": "9de58124-e952-4b0d-d85c-990965c78ed1"
      },
      "execution_count": null,
      "outputs": [
        {
          "output_type": "execute_result",
          "data": {
            "text/plain": [
              "Index(['type', 'selftext', 'sentiment', 'score', 'title', 'Year', 'Area',\n",
              "       'Months', 'Value'],\n",
              "      dtype='object')"
            ]
          },
          "metadata": {},
          "execution_count": 41
        }
      ]
    },
    {
      "cell_type": "markdown",
      "source": [
        "###NULL"
      ],
      "metadata": {
        "id": "6_VZ7AcCOOOK"
      }
    },
    {
      "cell_type": "code",
      "source": [
        "df.isnull().sum()"
      ],
      "metadata": {
        "colab": {
          "base_uri": "https://localhost:8080/"
        },
        "id": "9fNzPRtbONo7",
        "outputId": "d4fb9ccf-75f1-476a-fdf9-ca9d8646c84d"
      },
      "execution_count": null,
      "outputs": [
        {
          "output_type": "execute_result",
          "data": {
            "text/plain": [
              "type              0\n",
              "selftext      27089\n",
              "sentiment     34838\n",
              "score             0\n",
              "title        231948\n",
              "Year              0\n",
              "Area              0\n",
              "Months            0\n",
              "Value             0\n",
              "dtype: int64"
            ]
          },
          "metadata": {},
          "execution_count": 43
        }
      ]
    },
    {
      "cell_type": "markdown",
      "source": [
        "## EDA (Reporte)"
      ],
      "metadata": {
        "id": "zAWn5YYxFwke"
      }
    },
    {
      "cell_type": "markdown",
      "source": [
        "Obtenemos un repórte con las características y naturaleza de los datos unificados"
      ],
      "metadata": {
        "id": "NxEZpKu2rys6"
      }
    },
    {
      "cell_type": "code",
      "source": [
        "report = create_report(df, title='My Report')\n",
        "report"
      ],
      "metadata": {
        "id": "M3vbc-sbCtjV",
        "colab": {
          "base_uri": "https://localhost:8080/",
          "height": 1000
        },
        "outputId": "66f3af3b-9c13-443c-d4d4-53e077879b07"
      },
      "execution_count": null,
      "outputs": []
    },
    {
      "cell_type": "markdown",
      "source": [
        "###Exportación a Drive"
      ],
      "metadata": {
        "id": "GTin8M8uOdsP"
      }
    },
    {
      "cell_type": "markdown",
      "source": [
        "Guardamos el DataFrame en Drive para trabajo futuro "
      ],
      "metadata": {
        "id": "sPBAsM6WPTmi"
      }
    },
    {
      "cell_type": "code",
      "source": [
        "df.to_csv('clean_data.csv',  encoding='utf-8', index = False, header=True)"
      ],
      "metadata": {
        "id": "jL2BruglPOsJ"
      },
      "execution_count": null,
      "outputs": []
    },
    {
      "cell_type": "code",
      "source": [
        "!cp clean_data.csv '/content/drive/MyDrive/Data'"
      ],
      "metadata": {
        "id": "Nt1nTRY05Fb3"
      },
      "execution_count": null,
      "outputs": []
    },
    {
      "cell_type": "markdown",
      "metadata": {
        "id": "JBBPkCXpbwyC"
      },
      "source": [
        "## DATA SETS"
      ]
    },
    {
      "cell_type": "markdown",
      "metadata": {
        "id": "8EIY97cxb2hW"
      },
      "source": [
        "[Reddit](https://www.kaggle.com/datasets/pavellexyr/the-reddit-climate-change-dataset) | [FAO temperature](https://www.kaggle.com/datasets/sevgisarac/temperature-change)"
      ]
    },
    {
      "cell_type": "markdown",
      "source": [
        "### Diccionario de datos"
      ],
      "metadata": {
        "id": "5NA7hnhQzwNA"
      }
    },
    {
      "cell_type": "markdown",
      "source": [
        "01. **type**: Tipo de fuente de dato (comentario/post).\n",
        "02. **id**: ID del comentario.\n",
        "03. **subreddit.id**: Id del subreddit del comentario.\n",
        "04. **subreddit.name**: Id del comentarios del subreddit (human-readable).\n",
        "05. **subreddit.nsfw**: Not Safe For Work.\n",
        "06. **created_utc**: Timestamp de la creación del comentario. \n",
        "07. **permalink**: Permalink del comentario en Reddit.\n",
        "08. **selftext**: Cuerpo del texto.\n",
        "09. **sentiment**: Sentimiento del comentario.\n",
        "10. **score**: Puntaje del comentario\n",
        "11. **domain**: Dominio del post.\n",
        "12. **url**: Link de la publicación. \n",
        "13. **title**: Titulo del post.\n",
        "14. **Year**: Año en que se publicó.\n",
        "15. **Domain code**: Código del Dominio (ET)\n",
        "16. **Domain**: Dominio (Temperature change)\n",
        "17. **Area Code**: Código del país.\n",
        "18. **Area**: Nombre del país.\n",
        "19. **Element Code**: Código del elemento. (7271)\n",
        "20. **Element**: Elemento. (Temperature Change).\n",
        "19. **Months Code**: Código del mes\n",
        "20. **Months**: Mes\n",
        "21. **Year Code**: Código del año\n",
        "22. **Unit**: Unidad (Centigrado)\n",
        "21. **Value**: Cambio en la temperatura.\n",
        "22. **Flag**: Fc/Nv\n",
        "23. **Flag Description**: Muestra cada valor calculado."
      ],
      "metadata": {
        "id": "ri8NYOKHzzRH"
      }
    },
    {
      "cell_type": "markdown",
      "source": [
        "## Preguntas"
      ],
      "metadata": {
        "id": "cBklS0BrXt-S"
      }
    },
    {
      "cell_type": "markdown",
      "source": [
        "1. ¿Cuál es el objetivo del preprocesamiento de los datos?\n",
        "\n",
        "Generar un conjunto de datos limpio con observaciones de calidad\n",
        "\n",
        "2. ¿El conjunto de datos contiene valores faltantes? ¿Cuántos? ¿Cuál es la estrategia para manejarlos?\n",
        "\n",
        "Sí, en la columna selftext y sentiment hay observaciones con datos nulos, estos serán eliminados ya que son las columnas target. En sentiment pueden imputarse con el promedio para que no alteren los registros. La columna title no nos será de utilidad pues en mayoría son valores nulos.\n",
        "\n",
        "3. ¿Hay valores atípicos o extremos en los datos? ¿Deberían eliminarse o tratarse de alguna otra manera?\n",
        "\n",
        "No se observan; sin embargo, para el caso que estamos trabajado, los outliers también deberían ser considerados.\n",
        "\n",
        "4. ¿Cómo se ha manejado la normalización o estandarización de las variables numéricas? ¿Se ha aplicado alguna técnica de transformación de variables?\n",
        "\n",
        "En este punto nos hemos centrado en la limpieza de datos, dejando las transformaciones para la siguiente fase. Se utilizarán ambas técnicas para probar distintas combinaciones y resultados.\n",
        "\n",
        "5. ¿Cómo se han codificado las variables categóricas? ¿Se ha utilizado alguna técnica de codificación, como One-Hot Encoding o Binary Encoding? \n",
        "\n",
        "Se utilizará Label encoding para la columna type, para selftext y su relación con sentiment Se probarán distinos encodings y combinaciones. Similarity y  One-Hot encoding incluidos.\n",
        "\n",
        "6. ¿Se han eliminado o agregado variables durante el preprocesamiento de los datos? ¿Por qué?\n",
        "\n",
        "Se eliminaron aquellas que no aportarán al modelado, códigos, flags, descripciones, timestamp, etc. La columna que se agregó fue la extracción de características de la última para unir los conjuntos previos a través del año.\n",
        "\n",
        "7. ¿Se ha realizado alguna técnica de reducción de dimensionalidad, como PCA o LDA?\n",
        "\n",
        "No fue necesario dadas las características de los datos\n",
        "\n",
        "8. ¿Cómo se ha dividido el conjunto de datos en conjuntos de entrenamiento y prueba?\n",
        "\n",
        "Se utilizan samples diferentes pero en todo caso puede utilizarse la función makeblobs para dividir el conjunto.\n",
        "\n",
        "9. ¿Se han aplicado técnicas de balanceo de clases en el conjunto de datos? ¿Cuál ha sido la estrategia utilizada?\n",
        "\n",
        "En este punto no se observa desbalanceo en las variables existentes. Posteriormente puede ocurrir el caso\n"
      ],
      "metadata": {
        "id": "mZ4r9yFTYGgi"
      }
    }
  ]
}